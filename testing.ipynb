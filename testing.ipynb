{
 "cells": [
  {
   "cell_type": "code",
   "execution_count": 1,
   "metadata": {},
   "outputs": [],
   "source": [
    "import tensorflow as tf"
   ]
  },
  {
   "cell_type": "code",
   "execution_count": 14,
   "metadata": {},
   "outputs": [],
   "source": [
    "import numpy as np"
   ]
  },
  {
   "cell_type": "code",
   "execution_count": 34,
   "metadata": {},
   "outputs": [],
   "source": [
    "def retrieve_data(tfrecord_file):\n",
    "    feature_description = {\n",
    "        \"global_view\": tf.io.FixedLenFeature([2001], tf.float32),\n",
    "        \"local_view\": tf.io.FixedLenFeature([201], tf.float32),\n",
    "        \"av_training_set\": tf.io.FixedLenFeature([], tf.string),\n",
    "        \"kepid\": tf.io.FixedLenFeature([], tf.int64),\n",
    "    }\n",
    "\n",
    "    def parse_tfrecord(example_proto):\n",
    "        example = tf.io.parse_single_example(example_proto, feature_description)\n",
    "        \n",
    "        # Convert label to integer\n",
    "        label = tf.cond(tf.equal(example[\"av_training_set\"], tf.constant(\"PC\")),\n",
    "                        lambda: tf.constant(1, dtype=tf.int64), # Represents a planet candidate\n",
    "                        lambda: tf.constant(0, dtype=tf.int64)) # Represents a false positive\n",
    "        \n",
    "        # Return (global, local) as features\n",
    "        return (example[\"global_view\"], example[\"local_view\"]), label\n",
    "\n",
    "    dataset = tf.data.TFRecordDataset(tfrecord_file)\n",
    "    dataset = dataset.map(parse_tfrecord)\n",
    "    return dataset\n"
   ]
  },
  {
   "cell_type": "code",
   "execution_count": 35,
   "metadata": {},
   "outputs": [],
   "source": [
    "import matplotlib.pyplot as plt\n",
    "dataset = retrieve_data(\"/Users/swebber/Documents/Personal_Projects/QuantumComet---NASA-Space-Apps-Challenge-2025/Astronet_Preprocessed_Data/train-00000-of-00008\")\n",
    "\n",
    "for (global_view, local_view), label in dataset.take(3):\n",
    "    print(\"Label:\", label.numpy())\n",
    "    print(f\"{global_view.shape=}\")\n",
    "    print(f\"{local_view.shape=}\")\n",
    "\n",
    "    \n",
    "    plt.figure(figsize=(14,5))\n",
    "    \n",
    "    plt.subplot(1,2,1)\n",
    "    plt.plot(global_view.numpy(), \".\")\n",
    "    plt.title(\"Global view (full phase)\")\n",
    "    \n",
    "    plt.subplot(1,2,2)\n",
    "    plt.plot(local_view.numpy(), \".\")\n",
    "    plt.title(\"Local view (transit zoom)\")\n",
    "    \n",
    "    plt.show()\n"
   ]
  },
  {
   "cell_type": "code",
   "execution_count": 13,
   "metadata": {},
   "outputs": [],
   "source": [
    "from tensorflow.keras import layers, models\n"
   ]
  },
  {
   "cell_type": "code",
   "execution_count": null,
   "metadata": {},
   "outputs": [],
   "source": [
    "\n",
    "\n",
    "input_global = layers.Input(shape=(2001,), name='global_view')\n",
    "input_local = layers.Input(shape=(201,), name='local_view')\n",
    "\n",
    "# Process each view separately\n",
    "xg = layers.Dense(128, activation='relu')(input_global)\n",
    "xg = layers.Dense(64, activation='relu')(xg)\n",
    "\n",
    "xl = layers.Dense(32, activation='relu')(input_local)\n",
    "xl = layers.Dense(16, activation='relu')(xl)\n",
    "\n",
    "# Merge global + local\n",
    "x = layers.concatenate([xg, xl])\n",
    "x = layers.Dense(64, activation='relu')(x)\n",
    "output = layers.Dense(1, activation='sigmoid')(x)\n",
    "\n",
    "model = models.Model(inputs=[input_global, input_local], outputs=output)\n",
    "model.compile(optimizer='adam', loss='binary_crossentropy', metrics=['accuracy'])\n",
    "model.summary()\n"
   ]
  },
  {
   "cell_type": "code",
   "execution_count": 32,
   "metadata": {},
   "outputs": [],
   "source": [
    "X_global, X_local, y = [], [], []\n",
    "\n",
    "for (global_view, local_view), label in dataset:\n",
    "    X_global.append(global_view.numpy())\n",
    "    X_local.append(local_view.numpy())\n",
    "    y.append(label.numpy())\n",
    "\n",
    "X_global = np.array(X_global)  # Shape: (num_samples, 2001)\n",
    "X_local = np.array(X_local)    # Shape: (num_samples, 201)\n",
    "y = np.array(y)\n"
   ]
  },
  {
   "cell_type": "code",
   "execution_count": 33,
   "metadata": {},
   "outputs": [],
   "source": [
    "model.fit(\n",
    "    {'global_view': X_global, 'local_view': X_local},\n",
    "    y,\n",
    "    epochs=20,\n",
    "    batch_size=32,\n",
    "    validation_split=0.1\n",
    ")\n"
   ]
  },
  {
   "cell_type": "code",
   "execution_count": 38,
   "metadata": {},
   "outputs": [],
   "source": [
    "dataTest = retrieve_data(\"Astronet_Preprocessed_Data/test-00000-of-00001\")\n",
    "X_global_test, X_local_test, y_test = [], [], []\n",
    "\n",
    "for (global_view, local_view), label in dataset:\n",
    "    X_global_test.append(global_view.numpy())\n",
    "    X_local_test.append(local_view.numpy())\n",
    "    y_test.append(label.numpy())\n",
    "\n",
    "X_global_test = np.array(X_global_test)  # Shape: (num_samples, 2001)\n",
    "X_local_test = np.array(X_local_test)    # Shape: (num_samples, 201)\n",
    "y_test = np.array(y_test)\n"
   ]
  },
  {
   "cell_type": "code",
   "execution_count": 39,
   "metadata": {},
   "outputs": [],
   "source": [
    "loss, acc = model.evaluate({'global_view': X_global_test, 'local_view': X_local_test}, y_test)\n",
    "print(\"Test Accuracy:\", acc)\n"
   ]
  }
 ],
 "metadata": {
  "kernelspec": {
   "display_name": "quantumcomet",
   "language": "python",
   "name": "python3"
  },
  "language_info": {
   "codemirror_mode": {
    "name": "ipython",
    "version": 3
   },
   "file_extension": ".py",
   "mimetype": "text/x-python",
   "name": "python",
   "nbconvert_exporter": "python",
   "pygments_lexer": "ipython3",
   "version": "3.10.16"
  }
 },
 "nbformat": 4,
 "nbformat_minor": 2
}
